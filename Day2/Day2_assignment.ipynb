{
 "cells": [
  {
   "cell_type": "markdown",
   "metadata": {},
   "source": [
    "# Question 1"
   ]
  },
  {
   "cell_type": "code",
   "execution_count": 2,
   "metadata": {},
   "outputs": [
    {
     "name": "stdout",
     "output_type": "stream",
     "text": [
      "Enter a 10 numbers : \n",
      "10\n",
      "1\n",
      "2\n",
      "3\n",
      "4\n",
      "5\n",
      "6\n",
      "7\n",
      "8\n",
      "9\n",
      "Even List is :  [10, 2, 4, 6, 8]\n"
     ]
    }
   ],
   "source": [
    "kartik = []\n",
    "n = 10\n",
    "print(\"Enter a\" ,n ,\"numbers : \")\n",
    "\n",
    "for i in range(0,n):\n",
    "    ele = int(input())\n",
    "    \n",
    "    if ele % 2 == 0:\n",
    "        kartik.append(ele)\n",
    "    \n",
    "print(\"Even List is : \",kartik)"
   ]
  },
  {
   "cell_type": "markdown",
   "metadata": {},
   "source": [
    "# Question 2"
   ]
  },
  {
   "cell_type": "code",
   "execution_count": null,
   "metadata": {},
   "outputs": [],
   "source": [
    "# List Comprehension\n",
    "numbers = [1, 2, 3, 4, 5]\n",
    "squares = [number**2 for number in numbers if number%2==1]\n",
    "print(squares)"
   ]
  },
  {
   "cell_type": "markdown",
   "metadata": {},
   "source": [
    "# Question 3"
   ]
  },
  {
   "cell_type": "code",
   "execution_count": 1,
   "metadata": {},
   "outputs": [
    {
     "name": "stdout",
     "output_type": "stream",
     "text": [
      "Enter a number : 4\n",
      "{1: 1, 2: 4, 3: 9, 4: 16}\n"
     ]
    }
   ],
   "source": [
    "n = int(input(\"Enter a number : \"))\n",
    "\n",
    "d = {}\n",
    "for i in range(1,n+1):\n",
    "    d[i] = i*i\n",
    "    \n",
    "print(d)"
   ]
  },
  {
   "cell_type": "markdown",
   "metadata": {},
   "source": [
    "# Question 4"
   ]
  },
  {
   "cell_type": "code",
   "execution_count": 12,
   "metadata": {},
   "outputs": [
    {
     "name": "stdout",
     "output_type": "stream",
     "text": [
      "4\n",
      "5\n",
      "3\n",
      "3\n",
      "2\n",
      "0\n"
     ]
    }
   ],
   "source": [
    "pos = {\n",
    "    \"x\":0,\n",
    "    \"y\":0\n",
    "}\n",
    "num = int(input())\n",
    "\n",
    "for _ in range(num):\n",
    "    direction = input().split(\" \")\n",
    "    if direction[0] == \"UP\":\n",
    "        pos[\"y\"] += int(steps)\n",
    "    if direction[0] == \"Down\":\n",
    "        pos[\"y\"] -= int(steps)\n",
    "    if direction[0] == \"LEFT\":\n",
    "        pos[\"x\"] += int(steps)\n",
    "    if direction[0] == \"Right\":\n",
    "        pos[\"x\"] -= int(steps)\n",
    "print(int(round((pos[\"x\"]**2 + pos[\"y\"]**2)**0.5)))"
   ]
  }
 ],
 "metadata": {
  "kernelspec": {
   "display_name": "Python 3",
   "language": "python",
   "name": "python3"
  },
  "language_info": {
   "codemirror_mode": {
    "name": "ipython",
    "version": 3
   },
   "file_extension": ".py",
   "mimetype": "text/x-python",
   "name": "python",
   "nbconvert_exporter": "python",
   "pygments_lexer": "ipython3",
   "version": "3.8.3"
  }
 },
 "nbformat": 4,
 "nbformat_minor": 4
}
