{
 "cells": [
  {
   "cell_type": "markdown",
   "metadata": {},
   "source": [
    "# Question 1"
   ]
  },
  {
   "cell_type": "code",
   "execution_count": 4,
   "metadata": {},
   "outputs": [
    {
     "name": "stdout",
     "output_type": "stream",
     "text": [
      "[ 2  5  8 11 14 17 20 23 26 29 32 35 38 41 44 47]\n"
     ]
    }
   ],
   "source": [
    "import numpy as np\n",
    "arr = np.arange(2,50,3)\n",
    "print(arr)"
   ]
  },
  {
   "cell_type": "markdown",
   "metadata": {},
   "source": [
    "# Question 2"
   ]
  },
  {
   "cell_type": "code",
   "execution_count": 12,
   "metadata": {},
   "outputs": [
    {
     "name": "stdout",
     "output_type": "stream",
     "text": [
      "1\n",
      "8\n",
      "9\n",
      "6\n",
      "7\n",
      "Array 1 is :  [1 8 9 6 7]\n",
      "3\n",
      "2\n",
      "5\n",
      "4\n",
      "10\n",
      "Array 2 is :  [ 3  2  5  4 10]\n",
      "After concatenate :  [ 1  8  9  6  7  3  2  5  4 10]\n",
      "After sorting [ 1  2  3  4  5  6  7  8  9 10]\n"
     ]
    }
   ],
   "source": [
    "import numpy as np\n",
    "lst1 = []\n",
    "for i in range(0, 5):\n",
    "    ele = int(input())\n",
    "    \n",
    "    lst1.append(ele)\n",
    "\n",
    "a1 = np.array(lst1)\n",
    "print(\"Array 1 is : \",a1)\n",
    "\n",
    "lst2 = []\n",
    "for i in range(0, 5):\n",
    "    ele = int(input())\n",
    "    \n",
    "    lst2.append(ele)\n",
    "\n",
    "a2 = np.array(lst2)\n",
    "print(\"Array 2 is : \",a2)\n",
    "\n",
    "arr = np.concatenate((a1,a2))\n",
    "print(\"After concatenate : \",arr)\n",
    "\n",
    "arr.sort()\n",
    "print(\"After sorting\",arr)"
   ]
  },
  {
   "cell_type": "markdown",
   "metadata": {},
   "source": [
    "# Question 3"
   ]
  },
  {
   "cell_type": "code",
   "execution_count": 16,
   "metadata": {},
   "outputs": [
    {
     "name": "stdout",
     "output_type": "stream",
     "text": [
      "No. of dimention is :  2\n",
      "Size of array is :  6\n"
     ]
    }
   ],
   "source": [
    "import numpy as np\n",
    "\n",
    "arr = np.array([[1,2,3],[4,5,6]])\n",
    "\n",
    "print(\"No. of dimention is : \",arr.ndim)\n",
    "print(\"Size of array is : \",arr.size)"
   ]
  },
  {
   "cell_type": "markdown",
   "metadata": {},
   "source": [
    "# Question 4 "
   ]
  },
  {
   "cell_type": "code",
   "execution_count": 60,
   "metadata": {},
   "outputs": [
    {
     "name": "stdout",
     "output_type": "stream",
     "text": [
      "1-D array is :  [ 1  2  3  4  5  6  7  8  9 10 11 12]\n",
      "2-D array is : \n",
      "[[ 1  2  3]\n",
      " [ 4  5  6]\n",
      " [ 7  8  9]\n",
      " [10 11 12]]\n"
     ]
    }
   ],
   "source": [
    "#using np.newaxis methode\n",
    "\n",
    "import numpy as np\n",
    "\n",
    "arr = np.arange(1,13)\n",
    "print(\"1-D array is : \",arr)\n",
    "\n",
    "new = arr[np.newaxis, :]\n",
    "arr2 = new.reshape(4,3)\n",
    "print(\"2-D array is : \")\n",
    "print(a)"
   ]
  },
  {
   "cell_type": "code",
   "execution_count": 66,
   "metadata": {},
   "outputs": [
    {
     "name": "stdout",
     "output_type": "stream",
     "text": [
      "1-D array is :  [ 1  2  3  4  5  6  7  8  9 10 11 12]\n",
      "2-D array is : \n",
      "[[ 1  2  3]\n",
      " [ 4  5  6]\n",
      " [ 7  8  9]\n",
      " [10 11 12]]\n"
     ]
    }
   ],
   "source": [
    "#using expand_dim methode\n",
    "\n",
    "x = np.arange(1,13)\n",
    "print(\"1-D array is : \",x)\n",
    "\n",
    "y = np.expand_dims(x, axis = 0)\n",
    "a=y.reshape(4,3)\n",
    "print(\"2-D array is : \")\n",
    "print(a)"
   ]
  },
  {
   "cell_type": "markdown",
   "metadata": {},
   "source": [
    "# Question 5"
   ]
  },
  {
   "cell_type": "code",
   "execution_count": 70,
   "metadata": {},
   "outputs": [
    {
     "name": "stdout",
     "output_type": "stream",
     "text": [
      "Horizontal Append :  [1 2 3 4 5 6]\n",
      "Vertical Append : \n",
      "[[1 2 3]\n",
      " [4 5 6]]\n"
     ]
    }
   ],
   "source": [
    "import numpy as np\n",
    "a = np.array([1,2,3])\n",
    "b = np.array([4,5,6])\n",
    "\n",
    "print(\"Horizontal Append : \",np.hstack((a,b)))\n",
    "print(\"Vertical Append : \")\n",
    "print(np.vstack((a,b)))"
   ]
  },
  {
   "cell_type": "markdown",
   "metadata": {},
   "source": [
    "# Question 6"
   ]
  },
  {
   "cell_type": "code",
   "execution_count": 4,
   "metadata": {},
   "outputs": [
    {
     "name": "stdout",
     "output_type": "stream",
     "text": [
      "3\n"
     ]
    }
   ],
   "source": [
    "# USE set() AND len() TO COUNT UNIQUE VALUES IN A LIST\n",
    "\n",
    "a_list = [1, 1, 2, 2, 3]\n",
    "a_set = set(a_list)\n",
    "number_of_unique_values = len(a_set)\n",
    "print(number_of_unique_values)"
   ]
  }
 ],
 "metadata": {
  "kernelspec": {
   "display_name": "Python 3",
   "language": "python",
   "name": "python3"
  },
  "language_info": {
   "codemirror_mode": {
    "name": "ipython",
    "version": 3
   },
   "file_extension": ".py",
   "mimetype": "text/x-python",
   "name": "python",
   "nbconvert_exporter": "python",
   "pygments_lexer": "ipython3",
   "version": "3.8.3"
  }
 },
 "nbformat": 4,
 "nbformat_minor": 4
}
